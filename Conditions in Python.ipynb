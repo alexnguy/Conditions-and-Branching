{
    "cells": [
        {
            "cell_type": "markdown",
            "metadata": {
                "collapsed": true
            },
            "source": "# Conditions in Python"
        },
        {
            "cell_type": "markdown",
            "metadata": {},
            "source": "### Condition Statements"
        },
        {
            "cell_type": "code",
            "execution_count": 1,
            "metadata": {},
            "outputs": [
                {
                    "data": {
                        "text/plain": "False"
                    },
                    "execution_count": 1,
                    "metadata": {},
                    "output_type": "execute_result"
                }
            ],
            "source": "# Comparison operators compare a operand (value) to produce a Boolean based on a condition\n\na = 9\na == 10\n\n# Condition Equal test, results in false, as 9 does not equal 10"
        },
        {
            "cell_type": "code",
            "execution_count": 2,
            "metadata": {},
            "outputs": [
                {
                    "data": {
                        "text/plain": "True"
                    },
                    "execution_count": 2,
                    "metadata": {},
                    "output_type": "execute_result"
                }
            ],
            "source": "# Greater than sign\n\nw = 8\nw > 7"
        },
        {
            "cell_type": "code",
            "execution_count": 3,
            "metadata": {},
            "outputs": [
                {
                    "data": {
                        "text/plain": "False"
                    },
                    "execution_count": 3,
                    "metadata": {},
                    "output_type": "execute_result"
                }
            ],
            "source": "w = 8\nw > 9"
        },
        {
            "cell_type": "code",
            "execution_count": 5,
            "metadata": {},
            "outputs": [
                {
                    "data": {
                        "text/plain": "True"
                    },
                    "execution_count": 5,
                    "metadata": {},
                    "output_type": "execute_result"
                }
            ],
            "source": "# Inequality test uses and exclamation mark before the equal sign to see if they are truly not equal\n\ni = 4\ni != 5\n\n# A true result is when it is shown they are not equal"
        },
        {
            "cell_type": "code",
            "execution_count": 6,
            "metadata": {},
            "outputs": [
                {
                    "data": {
                        "text/plain": "False"
                    },
                    "execution_count": 6,
                    "metadata": {},
                    "output_type": "execute_result"
                }
            ],
            "source": "# A false result occurs when there is equality\\\n\ni = 4\ni !=4"
        },
        {
            "cell_type": "code",
            "execution_count": 7,
            "metadata": {},
            "outputs": [
                {
                    "data": {
                        "text/plain": "False"
                    },
                    "execution_count": 7,
                    "metadata": {},
                    "output_type": "execute_result"
                }
            ],
            "source": "# We can use the same methods on strings\n\n\"Lunch\" == \"Dinner\""
        },
        {
            "cell_type": "code",
            "execution_count": 8,
            "metadata": {},
            "outputs": [
                {
                    "data": {
                        "text/plain": "True"
                    },
                    "execution_count": 8,
                    "metadata": {},
                    "output_type": "execute_result"
                }
            ],
            "source": "#Inequality test with string\n\n\"Lunch\" != \"Dinner\""
        },
        {
            "cell_type": "markdown",
            "metadata": {},
            "source": "### Branching"
        },
        {
            "cell_type": "code",
            "execution_count": 14,
            "metadata": {},
            "outputs": [
                {
                    "name": "stdout",
                    "output_type": "stream",
                    "text": "You can ride\nMove on\n"
                }
            ],
            "source": "# If statement example given height needed for a specific rollercoaster\n\nHeight = 66\n#Height = 65\n\n#expression that can be true or false\nif Height > 65: \n    \n    #within an indent, we have the expression that is run if the condition is true\n    print(\"You can ride\")\n    \n#The statement after the if statement will run regardless if the condition is true or false\nprint(\"Move on\")"
        },
        {
            "cell_type": "code",
            "execution_count": 15,
            "metadata": {},
            "outputs": [
                {
                    "name": "stdout",
                    "output_type": "stream",
                    "text": "Go ride the teacups\nmove on\n"
                }
            ],
            "source": "# Else statement example\n\nHeight = 64\n# Height = 65\n\nif Height > 65:\n    print(\"You can ride\")\nelse: \n    print(\"Go ride the teacups\")\n\nprint (\"move on\")"
        },
        {
            "cell_type": "code",
            "execution_count": 19,
            "metadata": {},
            "outputs": [
                {
                    "name": "stdout",
                    "output_type": "stream",
                    "text": "Go ride the slingshot\nmove on\n"
                }
            ],
            "source": "# Elif stateemnt checks for additional conditions if the statements before it are false\n\nHeight = 65\n\nif Height > 65:\n    print (\"You can ride\")\nelif Height == 65:\n    print(\"Go ride the slingshot\")\nelse:\n    print(\"Go ride the teacups\")\n\nprint(\"move on\")"
        },
        {
            "cell_type": "markdown",
            "metadata": {},
            "source": "### Logical Operators\n\n"
        },
        {
            "cell_type": "code",
            "execution_count": 21,
            "metadata": {},
            "outputs": [
                {
                    "name": "stdout",
                    "output_type": "stream",
                    "text": "Millenial generation 1980 to 1994\n\nMillenials are older than one thinks..\n"
                }
            ],
            "source": "# We can check more than one condition at once to test if true or false\n\n# Condition statement example\n\nbirth_year = 1980\n\nif(birth_year > 1979) and (birth_year < 1995):\n    print (\"Millenial generation 1980 to 1994\")\n    \nprint(\"\")\nprint(\"Millenials are older than one thinks..\")\n\n# The and statement is only true when all conditions are true "
        },
        {
            "cell_type": "code",
            "execution_count": 23,
            "metadata": {},
            "outputs": [
                {
                    "name": "stdout",
                    "output_type": "stream",
                    "text": "Millenial generation 1980 to 1994\n"
                }
            ],
            "source": "# Or check\n\nbirth_year = 1980\n\nif(birth_year < 1980) or (birth_year > 1994):\n    print (\"Generation is not millentials\")\nelse:\n    print(\"Millenial generation 1980 to 1994\")"
        },
        {
            "cell_type": "code",
            "execution_count": 25,
            "metadata": {},
            "outputs": [
                {
                    "name": "stdout",
                    "output_type": "stream",
                    "text": "Birth year is not 1980\n"
                }
            ],
            "source": "birth_year = 1981\n\nif not (birth_year == 1980):\n print(\"Birth year is not 1980\")"
        }
    ],
    "metadata": {
        "kernelspec": {
            "display_name": "Python 3.9",
            "language": "python",
            "name": "python3"
        },
        "language_info": {
            "codemirror_mode": {
                "name": "ipython",
                "version": 3
            },
            "file_extension": ".py",
            "mimetype": "text/x-python",
            "name": "python",
            "nbconvert_exporter": "python",
            "pygments_lexer": "ipython3",
            "version": "3.9.7"
        }
    },
    "nbformat": 4,
    "nbformat_minor": 1
}